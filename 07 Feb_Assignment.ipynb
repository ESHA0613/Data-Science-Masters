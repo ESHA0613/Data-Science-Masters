{
 "cells": [
  {
   "cell_type": "markdown",
   "id": "52d20e14",
   "metadata": {},
   "source": [
    "Q1. You are writing code for a company. The requirement of the company is that you create a python function that will check whether the password entered by the user is correct or not. The function should take the password as input and return the string “Valid Password” if the entered password follows the<br>\n",
    " below-given password guidelines else it should return “Invalid Password”.<br>\n",
    " Note: 1. The Password should contain at least two uppercase letters and at least two lowercase letters.<br>\n",
    " 2. The Password should contain at least a number and three special characters.<br>\n",
    " 3. The length of the password should be 10 characters long.<br>"
   ]
  },
  {
   "cell_type": "code",
   "execution_count": 1,
   "id": "669689c9",
   "metadata": {},
   "outputs": [],
   "source": [
    "def is_valid_pass(p):\n",
    "    if(len(p)<10):\n",
    "        return False\n",
    "    u = 0\n",
    "    l = 0\n",
    "    n = 0\n",
    "    s = 0\n",
    "    for c in p:\n",
    "        if(c.isnumeric()):\n",
    "            n+=1\n",
    "        elif( 32<=ord(c)<=47 or 58<=ord(c)<=64 or 91<=ord(c)<=96 or 123<=ord(c)<=126):\n",
    "            s+=1\n",
    "        elif(97<=ord(c)<=122):\n",
    "            l+=1\n",
    "        elif(65<=ord(c)<=90):\n",
    "            u+=1\n",
    "    if(u>=2 and l>=2 and n>=1 and s>=3):\n",
    "        return True\n",
    "    else:\n",
    "        return False\n",
    "        \n",
    "    "
   ]
  },
  {
   "cell_type": "code",
   "execution_count": 2,
   "id": "35f5e7bb",
   "metadata": {},
   "outputs": [
    {
     "data": {
      "text/plain": [
       "True"
      ]
     },
     "execution_count": 2,
     "metadata": {},
     "output_type": "execute_result"
    }
   ],
   "source": [
    "is_valid_pass(\"SKch1234@&&&\")"
   ]
  },
  {
   "cell_type": "code",
   "execution_count": 10,
   "id": "a2b4e530",
   "metadata": {},
   "outputs": [
    {
     "data": {
      "text/plain": [
       "False"
      ]
     },
     "execution_count": 10,
     "metadata": {},
     "output_type": "execute_result"
    }
   ],
   "source": [
    "is_valid_pass(\"sk1234$AM\")"
   ]
  },
  {
   "cell_type": "markdown",
   "id": "eafaa752",
   "metadata": {},
   "source": [
    "Q2. Solve the below-given questions using at least one of the following:<br>\n",
    "1. Lambda function<br>\n",
    "2. Filter function<br>\n",
    "3. Zap function<br>\n",
    "4. List ComprehensioI\n",
    "- Check if the string starts with a particular letter.<br>\n",
    "- Check if the string is numeric.<br>\n",
    "- Sort a list of tuples having fruit names and their quantity. [(\"mango\",99),(\"orange\",80), (\"grapes\", 1000)-\n",
    "- Find the squares of numbers from 1 to 10.<br>\n",
    "- Find the cube root of numbers from 1 to 10.<br>\n",
    "- Check if a given number is even.<br>\n",
    "- Filter odd numbers from the given list.<br>\n",
    "[1,2,3,4,5,6,7,8,9,10]<br>\n",
    "-Sort a list of integers into positive and negative integers lists.<br>\n",
    "[1,2,3,4,5,6,-1,-2,-3,-4,-5,0]"
   ]
  },
  {
   "cell_type": "markdown",
   "id": "89ca9537",
   "metadata": {},
   "source": [
    "#### 1. Check if the string starts with a particular letter."
   ]
  },
  {
   "cell_type": "code",
   "execution_count": 15,
   "id": "24c27b82",
   "metadata": {},
   "outputs": [],
   "source": [
    "ans = lambda s, l: s.startswith(l)"
   ]
  },
  {
   "cell_type": "code",
   "execution_count": 17,
   "id": "6e980304",
   "metadata": {},
   "outputs": [
    {
     "name": "stdout",
     "output_type": "stream",
     "text": [
      "True\n"
     ]
    }
   ],
   "source": [
    "print(ans(\"Hello, this is Esha\", \"Hello\"))"
   ]
  },
  {
   "cell_type": "code",
   "execution_count": 18,
   "id": "df6663cb",
   "metadata": {},
   "outputs": [
    {
     "name": "stdout",
     "output_type": "stream",
     "text": [
      "False\n"
     ]
    }
   ],
   "source": [
    "print(ans(\"Hello, this is Esha\", \"Esha\"))"
   ]
  },
  {
   "cell_type": "markdown",
   "id": "381b0736",
   "metadata": {},
   "source": [
    "#### 2. Check if the string is numeric"
   ]
  },
  {
   "cell_type": "code",
   "execution_count": 19,
   "id": "0d31dc2a",
   "metadata": {},
   "outputs": [],
   "source": [
    "is_num = lambda s : s.isnumeric()"
   ]
  },
  {
   "cell_type": "code",
   "execution_count": 20,
   "id": "57624026",
   "metadata": {},
   "outputs": [
    {
     "name": "stdout",
     "output_type": "stream",
     "text": [
      "True\n"
     ]
    }
   ],
   "source": [
    "print(is_num(\"5678\"))"
   ]
  },
  {
   "cell_type": "code",
   "execution_count": 21,
   "id": "2f914c03",
   "metadata": {},
   "outputs": [
    {
     "name": "stdout",
     "output_type": "stream",
     "text": [
      "False\n"
     ]
    }
   ],
   "source": [
    "print(is_num(\"ab34\"))"
   ]
  },
  {
   "cell_type": "markdown",
   "id": "3de81637",
   "metadata": {},
   "source": [
    "#### 3. Sort a list of tuples having fruit names and their quantity. [(\"mango\",99),(\"orange\",80), (\"grapes\", 1000)]"
   ]
  },
  {
   "cell_type": "code",
   "execution_count": 23,
   "id": "84bbd0fa",
   "metadata": {},
   "outputs": [
    {
     "data": {
      "text/plain": [
       "[('orange', 80), ('mango', 99), ('grapes', 1000)]"
      ]
     },
     "execution_count": 23,
     "metadata": {},
     "output_type": "execute_result"
    }
   ],
   "source": [
    "l = [(\"mango\",99),(\"orange\",80), (\"grapes\", 1000)]\n",
    "l.sort(key = lambda x : x[1])\n",
    "l"
   ]
  },
  {
   "cell_type": "markdown",
   "id": "a090404d",
   "metadata": {},
   "source": [
    "#### 4. Find the squares of numbers from 1 to 10."
   ]
  },
  {
   "cell_type": "code",
   "execution_count": 73,
   "id": "6102d01e",
   "metadata": {},
   "outputs": [
    {
     "data": {
      "text/plain": [
       "[1, 4, 9, 16, 25, 36, 49, 64, 81, 100]"
      ]
     },
     "execution_count": 73,
     "metadata": {},
     "output_type": "execute_result"
    }
   ],
   "source": [
    "l = list(range(1, 11))\n",
    "list(map(lambda x : x**2, l))"
   ]
  },
  {
   "cell_type": "markdown",
   "id": "43185883",
   "metadata": {},
   "source": [
    "#### 5. Find the cube root of numbers from 1 to 10."
   ]
  },
  {
   "cell_type": "code",
   "execution_count": 74,
   "id": "614b2b1b",
   "metadata": {},
   "outputs": [
    {
     "data": {
      "text/plain": [
       "[1, 8, 27, 64, 125, 216, 343, 512, 729, 1000]"
      ]
     },
     "execution_count": 74,
     "metadata": {},
     "output_type": "execute_result"
    }
   ],
   "source": [
    "list(map(lambda x : x**3, l))"
   ]
  },
  {
   "cell_type": "markdown",
   "id": "57c0e3ce",
   "metadata": {},
   "source": [
    "#### 6. Check if a given number is even."
   ]
  },
  {
   "cell_type": "code",
   "execution_count": 75,
   "id": "47a620da",
   "metadata": {},
   "outputs": [],
   "source": [
    "is_even = lambda x : x%2==0"
   ]
  },
  {
   "cell_type": "code",
   "execution_count": 76,
   "id": "a782d586",
   "metadata": {},
   "outputs": [
    {
     "data": {
      "text/plain": [
       "True"
      ]
     },
     "execution_count": 76,
     "metadata": {},
     "output_type": "execute_result"
    }
   ],
   "source": [
    "is_even(4)"
   ]
  },
  {
   "cell_type": "code",
   "execution_count": 77,
   "id": "60d3bf9c",
   "metadata": {},
   "outputs": [
    {
     "data": {
      "text/plain": [
       "False"
      ]
     },
     "execution_count": 77,
     "metadata": {},
     "output_type": "execute_result"
    }
   ],
   "source": [
    "is_even(7)"
   ]
  },
  {
   "cell_type": "markdown",
   "id": "a863e8a5",
   "metadata": {},
   "source": [
    "#### 7. Filter odd numbers from the given list."
   ]
  },
  {
   "cell_type": "code",
   "execution_count": 82,
   "id": "55c88ccb",
   "metadata": {},
   "outputs": [
    {
     "data": {
      "text/plain": [
       "[1, 3, 5, 7, 9]"
      ]
     },
     "execution_count": 82,
     "metadata": {},
     "output_type": "execute_result"
    }
   ],
   "source": [
    "l = [1,2,3,4,5,6,7,8,9,10]\n",
    "list(filter(lambda x : x%2==1, l))"
   ]
  },
  {
   "cell_type": "markdown",
   "id": "28ec40d7",
   "metadata": {},
   "source": [
    "#### 8. Sort a list of integers into positive and negative integers lists."
   ]
  },
  {
   "cell_type": "code",
   "execution_count": 86,
   "id": "37a24681",
   "metadata": {},
   "outputs": [
    {
     "name": "stdout",
     "output_type": "stream",
     "text": [
      "[1, 2, 3, 4, 5, 6, 0]\n",
      "[-1, -2, -3, -4, -5]\n"
     ]
    }
   ],
   "source": [
    "l = [1,2,3,4,5,6,-1,-2,-3,-4,-5,0]\n",
    "pos_list = list(filter(lambda x : x >= 0, l))\n",
    "neg_list = list(filter(lambda x : x < 0, l))\n",
    "print(pos_list)\n",
    "print(neg_list)"
   ]
  },
  {
   "cell_type": "code",
   "execution_count": null,
   "id": "99a75a08",
   "metadata": {},
   "outputs": [],
   "source": []
  }
 ],
 "metadata": {
  "kernelspec": {
   "display_name": "Python 3 (ipykernel)",
   "language": "python",
   "name": "python3"
  },
  "language_info": {
   "codemirror_mode": {
    "name": "ipython",
    "version": 3
   },
   "file_extension": ".py",
   "mimetype": "text/x-python",
   "name": "python",
   "nbconvert_exporter": "python",
   "pygments_lexer": "ipython3",
   "version": "3.9.7"
  }
 },
 "nbformat": 4,
 "nbformat_minor": 5
}
