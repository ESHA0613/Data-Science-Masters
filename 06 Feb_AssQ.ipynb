{
 "cells": [
  {
   "cell_type": "markdown",
   "id": "0060f704",
   "metadata": {},
   "source": [
    "Q1. Create a function which will take a list as an argument and return the product of all the numbers after creating a flat list.<br>\n",
    "Use the below-given list as an argument for your function.<br>\n",
    "list1 = [1,2,3,4, [44,55,66, True], False, (34,56,78,89,34), {1,2,3,3,2,1}, {1:34, \"key2\": [55, 67, 78, 89], 4: (45,\n",
    "22, 61, 34)}, [56, 'data science'], 'Machine Learning']<br>\n",
    "Note: you must extract numeric keys and values of the dictionary also."
   ]
  },
  {
   "cell_type": "code",
   "execution_count": 36,
   "id": "2355f2ec",
   "metadata": {},
   "outputs": [],
   "source": [
    "l =  [1,2,3,4, [44,55,66, True], False, (34,56,78,89,34), {1,2,3,3,2,1}, {1:34, \"key2\": [55, 67, 78, 89], 4: (45, 22, 61, 34)}, [56, 'data science'], 'Machine Learning']"
   ]
  },
  {
   "cell_type": "code",
   "execution_count": 74,
   "id": "a7b783ef",
   "metadata": {},
   "outputs": [],
   "source": [
    "def exnum(l):\n",
    "    l1=[]\n",
    "    for i in l:\n",
    "        if type(i)==int or type(i)==float:\n",
    "            l1.append(i)\n",
    "            \n",
    "        elif type(i)==list or type(i)==tuple or type(i)==set:\n",
    "            for j in i :\n",
    "                if type(j)==int or type(j)==float:\n",
    "                     l1.append(j)\n",
    "                        \n",
    "        elif type(i)==dict:\n",
    "            k = i.keys()\n",
    "            v = i.values()\n",
    "        \n",
    "            for j in k:\n",
    "                if type(j)==float or type(j)==int:\n",
    "                    l1.append(j)\n",
    "            for j in v:\n",
    "                if type(j)==float or type(j)==int:\n",
    "                    l1.append(j)\n",
    "            for j in v:\n",
    "                if type(j)==list or type(j)==tuple or type(j)==set:\n",
    "                    for k in j:\n",
    "                        if type(k)==int or type(k)==float:\n",
    "                            l1.append(k)\n",
    "        \n",
    "    return l1\n"
   ]
  },
  {
   "cell_type": "code",
   "execution_count": 76,
   "id": "a94bd9a0",
   "metadata": {},
   "outputs": [],
   "source": [
    "l2 = exnum(l)"
   ]
  },
  {
   "cell_type": "code",
   "execution_count": 82,
   "id": "3a577d77",
   "metadata": {},
   "outputs": [
    {
     "name": "stdout",
     "output_type": "stream",
     "text": [
      "4134711838987085478833841242112000\n"
     ]
    }
   ],
   "source": [
    "from functools import reduce\n",
    "l3 = reduce(lambda a, b: a*b, l2)\n",
    "print(l3)"
   ]
  },
  {
   "cell_type": "markdown",
   "id": "d413012a",
   "metadata": {},
   "source": [
    "Q2. Write a python program for encrypting a message sent to you by your friend. The logic of encryption\n",
    "should be such that, for a the output should be z. For b, the output should be y. For c, the output should\n",
    "be x respectively. Also, the whitespace should be replaced with a dollar sign. Keep the punctuation\n",
    "marks unchanged.\n",
    "Input Sentence: I want to become a Data Scientist.\n",
    "Encrypt the above input sentence using the program you just created.\n",
    "Note: Convert the given input sentence into lowercase before encrypting. The final output should be\n",
    "lowercase."
   ]
  },
  {
   "cell_type": "code",
   "execution_count": 151,
   "id": "d5aa3e44",
   "metadata": {},
   "outputs": [
    {
     "name": "stdout",
     "output_type": "stream",
     "text": [
      "r$dzmg$gl$yvxlnv$z$wzgz$hxrvmgrhg\n"
     ]
    }
   ],
   "source": [
    "s = \"I want to become a Data Scientist\"\n",
    "s = s.lower()\n",
    "ans=\"\"\n",
    "for i in s:\n",
    "    if i<='z' and i>='a':\n",
    "        ans += chr(ord('z') - (26 - (ord('z')-ord(i)+1)))\n",
    "    if i==\" \":\n",
    "        ans+=\"$\"\n",
    "        \n",
    "\n",
    "print(ans)"
   ]
  },
  {
   "cell_type": "code",
   "execution_count": null,
   "id": "ea00f8be",
   "metadata": {},
   "outputs": [],
   "source": []
  },
  {
   "cell_type": "code",
   "execution_count": null,
   "id": "3fd57231",
   "metadata": {},
   "outputs": [],
   "source": []
  },
  {
   "cell_type": "code",
   "execution_count": null,
   "id": "b2426a13",
   "metadata": {},
   "outputs": [],
   "source": []
  },
  {
   "cell_type": "code",
   "execution_count": null,
   "id": "146239f5",
   "metadata": {},
   "outputs": [],
   "source": []
  }
 ],
 "metadata": {
  "kernelspec": {
   "display_name": "Python 3 (ipykernel)",
   "language": "python",
   "name": "python3"
  },
  "language_info": {
   "codemirror_mode": {
    "name": "ipython",
    "version": 3
   },
   "file_extension": ".py",
   "mimetype": "text/x-python",
   "name": "python",
   "nbconvert_exporter": "python",
   "pygments_lexer": "ipython3",
   "version": "3.9.7"
  }
 },
 "nbformat": 4,
 "nbformat_minor": 5
}
