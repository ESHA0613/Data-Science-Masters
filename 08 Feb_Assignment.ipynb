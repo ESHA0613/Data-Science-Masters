{
 "cells": [
  {
   "cell_type": "markdown",
   "id": "60de104f",
   "metadata": {},
   "source": [
    "#### Q1. What is Abstraction in OOps? Explain with an example.\n",
    "Abstraction is the process of hiding the internal details of an application from the outer world. Abstraction is used to describe things in simple terms. It's used to<br> create a boundary between the application and the client programs.<br>\n",
    "For example, consider a smart phone. All the internal details of smart phone are hidden from us. We only see the outrt functions and designs. we are not concerned to know what's going inside it. So, abstraction hides unwanted details from us that we don't need to know and this makes application more secured."
   ]
  },
  {
   "cell_type": "markdown",
   "id": "76aff496",
   "metadata": {},
   "source": [
    "#### Q2. Differentiate between Abstraction and Encapsulation. Explain with an example.\n",
    "Abstraction is the method of hiding the unwanted information.<br>\n",
    "Whereas encapsulation is a method to hide the data in a single entity or unit along with a method to protect information from outside.<br>\n",
    "In abstraction, implementation complexities are hidden using abstract classes and interfaces.<br>\n",
    "While in encapsulation, the data is hidden using methods of getters and setters.<br><br>\n",
    "Examples<br>\n",
    "Encapsulation:\n",
    " When you log into your email accounts such as Gmail, Yahoo Mail, or Rediff mail, there is a lot of internal processes taking place in the backend and you have no control over it.\n",
    "\n",
    "When you enter the password for logging, they are retrieved in an encrypted form and verified, and then you are given access to your account.\n",
    "\n",
    "You do not have control over it that how the password has been verified. Thus, it keeps our account safe from being misused.<br>\n",
    "\n",
    "Abstraction : Abstraction shows only important things to the user and hides the internal details, for example, when we ride a bike, we only know about how to ride bikes but can not know about how it work? And also we do not know the internal functionality of a bike."
   ]
  },
  {
   "cell_type": "markdown",
   "id": "c4e595d7",
   "metadata": {},
   "source": [
    "#### Q3. What is abc module in python? Why is it used?\n",
    "\n",
    "<br>\n",
    "abc stands for Abstract Base Class. The main goal of the abstract base class is to provide a standardized way to test whether an object adheres to a given specification. It can also prevent any attempt to instantiate a subclass that doesn’t override a particular method in the superclass. "
   ]
  },
  {
   "cell_type": "markdown",
   "id": "992d25ef",
   "metadata": {},
   "source": [
    "#### Q4. How can we achieve data abstraction?<br>\n",
    "\n",
    "Abstraction is used to hide the internal functionality of the function from the users. The users only interact with the basic implementation of the function, but inner working is hidden. User is familiar with that \"what function does\" but they don't know \"how it does.\"<br><br>\n",
    "In Python, abstraction can be achieved by using abstract classes and interfaces.\n",
    "A class that consists of one or more abstract method is called the abstract class."
   ]
  },
  {
   "cell_type": "markdown",
   "id": "583153c7",
   "metadata": {},
   "source": [
    "#### Q5. Can we create an instance of an abstract class? Explain your answer.\n",
    "<br>\n",
    "An abstract class is a class, but not one you can create objects from directly. Its purpose is to define how other classes should look like, i.e. what methods and properties they are expected to have.<br>\n",
    "\n",
    "The methods and properties defined (but not implemented) in an abstract class are called abstract methods and abstract properties. All abstract methods and properties need to be implemented in a child class in order to be able to create objects from it.<br>\n",
    "\n",
    "We can create an abstract class by inheriting from the ABC class which is part of the abc module."
   ]
  },
  {
   "cell_type": "code",
   "execution_count": null,
   "id": "f255a8f7",
   "metadata": {},
   "outputs": [],
   "source": []
  }
 ],
 "metadata": {
  "kernelspec": {
   "display_name": "Python 3 (ipykernel)",
   "language": "python",
   "name": "python3"
  },
  "language_info": {
   "codemirror_mode": {
    "name": "ipython",
    "version": 3
   },
   "file_extension": ".py",
   "mimetype": "text/x-python",
   "name": "python",
   "nbconvert_exporter": "python",
   "pygments_lexer": "ipython3",
   "version": "3.9.7"
  }
 },
 "nbformat": 4,
 "nbformat_minor": 5
}
