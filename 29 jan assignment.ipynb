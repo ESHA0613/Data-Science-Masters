{
 "cells": [
  {
   "cell_type": "markdown",
   "id": "a6276f19",
   "metadata": {},
   "source": [
    "1. Who developed python programming language? <br>\n",
    "   -----------------------------------------------------------<br>\n",
    "Python was created by Guido van Rossum, and first released on February 20, 1991."
   ]
  },
  {
   "cell_type": "markdown",
   "id": "308b298f",
   "metadata": {},
   "source": [
    "2. which type of programming does python support ?<br>\n",
    "   -----------------------------------------------------------<br>\n",
    "Python is a multi-paradigm programming language. Object-oriented programming <br>\n",
    "and structured programming are fully supported, and many of their features support <br>\n",
    "functional programming."
   ]
  },
  {
   "cell_type": "markdown",
   "id": "a88b28ac",
   "metadata": {},
   "source": [
    "3. is python case sensitive when dealing with identifiers?<br>\n",
    "   -----------------------------------------------------------<br>\n",
    "Yes, Python is a case-sensitive language, i.e., it treats uppercase and lowercase<br>\n",
    "    characters differently. This applies to identifiers too. You must avoid using the same<br>\n",
    "    name with different cases while naming identifiers."
   ]
  },
  {
   "cell_type": "markdown",
   "id": "5d89a7b8",
   "metadata": {},
   "source": [
    "4. What is the correct extension of the python file?<br>\n",
    "    ----------------------------------------------------<br>\n",
    "The extensions for Python files are - . py, . pyi, ."
   ]
  },
  {
   "cell_type": "markdown",
   "id": "223193d6",
   "metadata": {},
   "source": [
    "5. Is python code compiled or interpreted?<br>\n",
    "    -----------------------------------------------<br>\n",
    "Python is an interpreted language, which means the source code of a Python <br>\n",
    "program is converted into bytecode that is then executed by the Python virtual machine."
   ]
  },
  {
   "cell_type": "markdown",
   "id": "9aaf638b",
   "metadata": {},
   "source": [
    "6. Name a few blocks of code used to define in python language.<br>\n",
    "    ----------------------------------------------------------------------<br>\n",
    "A block is a piece of Python program text that is executed as a unit. <br>\n",
    "The following are blocks: a module, a function body, and a class definition.<br>\n",
    "Each command typed interactively is a block."
   ]
  },
  {
   "cell_type": "markdown",
   "id": "a4368a70",
   "metadata": {},
   "source": [
    "7. State a character used to give single line comments in python.<br>\n",
    "    -----------------------------------------------------------------------<br>\n",
    "    We can write a single-line comment by adding a single # character before any statement or line of code\n"
   ]
  },
  {
   "cell_type": "markdown",
   "id": "eadedbed",
   "metadata": {},
   "source": [
    "8. Mention functions which can help us to find the version of python that we are currently working on.<br>\n",
    "    --------------------------------------------------------------------------------------------------------------<br>\n",
    "The function sys. version can help us to find the version of python that we are currently working on."
   ]
  },
  {
   "cell_type": "markdown",
   "id": "5e5fa6f3",
   "metadata": {},
   "source": [
    "9. Python supports the creation of anonymous functions at runtime, using a construct called ______________.<br>\n",
    "    ------------------------------------------------------------------------------------------------------------------------------<br>\n",
    "    lambda\n"
   ]
  },
  {
   "cell_type": "markdown",
   "id": "1053f289",
   "metadata": {},
   "source": [
    "10. What does pip stands for in python?<br>\n",
    "    ----------------------------------------------<br>\n",
    "    preferred installer program\n"
   ]
  },
  {
   "cell_type": "markdown",
   "id": "11489006",
   "metadata": {},
   "source": [
    "11. Mention a few built-in functions in python.<br>\n",
    "    -----------------------------------------------------<br>\n",
    "print( ) ,\n",
    "type( ) ,\n",
    "input( ) ,\n",
    "abs( ) ,\n",
    "pow( ) ,\n",
    "dir( ) ,\n",
    "sorted( ) ,\n",
    "max( ) , etc."
   ]
  },
  {
   "cell_type": "markdown",
   "id": "53f528ed",
   "metadata": {},
   "source": [
    "12. What is the maximum possible length of an identifier in python?<br>\n",
    "    ---------------------------------------------------------------------------<br>\n",
    "    79 characters"
   ]
  },
  {
   "cell_type": "markdown",
   "id": "337e5f59",
   "metadata": {},
   "source": [
    "13. What are benefits of using python?<br>\n",
    "    ----------------------------------------------<br>\n",
    "Simple to Use and Understand.<br>\n",
    "Free and Open-Source.<br>\n",
    "Productivity has Increased.<br>\n",
    "Interpreted Language.<br>\n",
    "Extensive library.<br>\n",
    "Dynamically Typed.<br>\n",
    "Portability.<br>\n",
    "Supportive community."
   ]
  },
  {
   "cell_type": "markdown",
   "id": "f709079c",
   "metadata": {},
   "source": [
    "14. How is memory managed in python?<br>\n",
    "    ------------------------------------------------<br>\n",
    "    Memory management in Python involves a private heap containing all Python objects and data structures.<br>\n",
    "    The management of this private heap is ensured internally by the Python memory manager.\n"
   ]
  },
  {
   "cell_type": "markdown",
   "id": "0de26e11",
   "metadata": {},
   "source": [
    "15. how to install python on windows and set path variables?<br>\n",
    "    "
   ]
  },
  {
   "cell_type": "markdown",
   "id": "7e2fade8",
   "metadata": {},
   "source": [
    "16. Is identation required in python?<br>\n",
    "    -------------------------------------------<br>\n",
    "    Indentation refers to the spaces at the beginning of a code line. Where in other programming <br>\n",
    "    languages the indentation in code is for readability only, the indentation in Python is very important. "
   ]
  },
  {
   "cell_type": "code",
   "execution_count": null,
   "id": "4d94316a",
   "metadata": {},
   "outputs": [],
   "source": []
  }
 ],
 "metadata": {
  "kernelspec": {
   "display_name": "Python 3 (ipykernel)",
   "language": "python",
   "name": "python3"
  },
  "language_info": {
   "codemirror_mode": {
    "name": "ipython",
    "version": 3
   },
   "file_extension": ".py",
   "mimetype": "text/x-python",
   "name": "python",
   "nbconvert_exporter": "python",
   "pygments_lexer": "ipython3",
   "version": "3.9.7"
  }
 },
 "nbformat": 4,
 "nbformat_minor": 5
}
