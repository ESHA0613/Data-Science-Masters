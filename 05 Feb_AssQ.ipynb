{
 "cells": [
  {
   "cell_type": "markdown",
   "id": "e26e83ac",
   "metadata": {},
   "source": [
    "### Q1. Explain Class and Object with respect to Object-Oriented Programming. Give a suitable example.\n",
    "Sol: Object − Objects have states and behaviors. Example: A dog has states - color, name, breed as well as behaviors – wagging the tail, barking, eating. An object is an instance of a class. Class − A class can be defined as a template/blueprint that describes the behavior/state that the object of its type support."
   ]
  },
  {
   "cell_type": "markdown",
   "id": "0c334c68",
   "metadata": {},
   "source": [
    "### Q2. Name the four pillars of OOPs.\n",
    "\n",
    "Sol: <br>\n",
    "The Four Pillars of Object-Oriented Programming<br>\n",
    "Abstraction.<br>\n",
    "Encapsulation.<br>\n",
    "Inheritance.<br>\n",
    "Polymorphism."
   ]
  },
  {
   "cell_type": "markdown",
   "id": "a6540a7c",
   "metadata": {},
   "source": [
    "### Q3. Explain why the __init__() function is used. Give a suitable example."
   ]
  },
  {
   "cell_type": "code",
   "execution_count": 6,
   "id": "39a54210",
   "metadata": {},
   "outputs": [
    {
     "name": "stdout",
     "output_type": "stream",
     "text": [
      "Chennai\n",
      "India\n",
      "21\n"
     ]
    }
   ],
   "source": [
    "class student :\n",
    "    def __init__(self, city, country, age):\n",
    "        self.city=city\n",
    "        self.country = country\n",
    "        self.age=age\n",
    "\n",
    "    def print_details(self):\n",
    "        print(self.city)\n",
    "        print(self.country)\n",
    "        print(self.age)\n",
    "        \n",
    "        \n",
    "rohan = student(\"Chennai\", \"India\", 21)\n",
    "rohan.print_details()"
   ]
  },
  {
   "cell_type": "markdown",
   "id": "7e8c17dd",
   "metadata": {},
   "source": [
    "In the above example we can see that __init__() function is used for initialisation of an object in a class. It's a contstructor of the class student.<br>The __init__ method lets the class initialize the object's attributes and serves no other purpose. It is only used within classes."
   ]
  },
  {
   "cell_type": "markdown",
   "id": "3eb1f2b4",
   "metadata": {},
   "source": [
    "### Q4. Why self is used in OOPs?\n",
    "The self variable is used to represent the instance of the class which is often used in object-oriented programming. It works as a reference to the object."
   ]
  },
  {
   "cell_type": "markdown",
   "id": "b5208338",
   "metadata": {},
   "source": [
    "### Q5. What is inheritance? Give an example for each type of inheritance.\n",
    "Sol: Inheritance is a mechanism of acquiring the features and behaviors of a class by another class. For example consider a class vehicle which has some wheels, horn, brakes, seats. Now, consider a class car, it also has fetures including the features of the vehicle class. so, we can say that the class car inherits the class vehicle. <br>\n",
    "OOPs support the six different types of inheritance as given below :<br>\n",
    "Single inheritance<br>\n",
    "Multi-level inheritance<br>\n",
    "Multiple inheritance<br>\n",
    "Multipath inheritance<br>\n",
    "Hierarchical Inheritance<br>\n",
    "Hybrid Inheritance<br>"
   ]
  },
  {
   "cell_type": "markdown",
   "id": "e92dc6c1",
   "metadata": {},
   "source": [
    "### Single Inheritance: "
   ]
  },
  {
   "cell_type": "markdown",
   "id": "08bcd68b",
   "metadata": {},
   "source": [
    "In this inheritance, a derived class is created from a single base class. For example Class A is the parent class and Class B is the child class since Class B inherits the features and behavior of the parent class A."
   ]
  },
  {
   "cell_type": "code",
   "execution_count": 32,
   "id": "6d5cc672",
   "metadata": {},
   "outputs": [],
   "source": [
    "class A:\n",
    "    def fun_A(self):\n",
    "        print(\"This is class A\")\n",
    "        \n",
    "class B(A):\n",
    "    def fun_B(self):\n",
    "        print(\"This is class B\")\n",
    "        \n",
    "PersonA = A()\n",
    "PersonB=B()"
   ]
  },
  {
   "cell_type": "code",
   "execution_count": 33,
   "id": "12152f14",
   "metadata": {},
   "outputs": [
    {
     "name": "stdout",
     "output_type": "stream",
     "text": [
      "This is class A\n"
     ]
    }
   ],
   "source": [
    "PersonA.fun_A()"
   ]
  },
  {
   "cell_type": "code",
   "execution_count": 34,
   "id": "e566d3df",
   "metadata": {},
   "outputs": [
    {
     "name": "stdout",
     "output_type": "stream",
     "text": [
      "This is class A\n",
      "This is class B\n"
     ]
    }
   ],
   "source": [
    "PersonB.fun_A()\n",
    "PersonB.fun_B()"
   ]
  },
  {
   "cell_type": "code",
   "execution_count": 35,
   "id": "87d3d402",
   "metadata": {},
   "outputs": [],
   "source": [
    "# PersonA.fun_B()   ------> throws an error since B inherits A and not vice versa"
   ]
  },
  {
   "cell_type": "markdown",
   "id": "da44cd7f",
   "metadata": {},
   "source": [
    "### Multiple inheritance"
   ]
  },
  {
   "cell_type": "markdown",
   "id": "702898d3",
   "metadata": {},
   "source": [
    "When a class can be derived from more than one base class this type of inheritance is called multiple inheritances. "
   ]
  },
  {
   "cell_type": "code",
   "execution_count": 36,
   "id": "3a05405e",
   "metadata": {},
   "outputs": [
    {
     "name": "stdout",
     "output_type": "stream",
     "text": [
      "Father : RAM\n",
      "Mother : SITA\n"
     ]
    }
   ],
   "source": [
    "class Mother:\n",
    "\tmothername = \"\"\n",
    "\n",
    "\tdef mother(self):\n",
    "\t\tprint(self.mothername)\n",
    "\n",
    "class Father:\n",
    "\tfathername = \"\"\n",
    "\n",
    "\tdef father(self):\n",
    "\t\tprint(self.fathername)\n",
    "\n",
    "class Son(Mother, Father):\n",
    "\tdef parents(self):\n",
    "\t\tprint(\"Father :\", self.fathername)\n",
    "\t\tprint(\"Mother :\", self.mothername)\n",
    "\n",
    "s1 = Son()\n",
    "s1.fathername = \"RAM\"\n",
    "s1.mothername = \"SITA\"\n",
    "s1.parents()\n"
   ]
  },
  {
   "cell_type": "markdown",
   "id": "e7677d20",
   "metadata": {},
   "source": [
    "### Multi-level inheritance"
   ]
  },
  {
   "cell_type": "markdown",
   "id": "1ed33319",
   "metadata": {},
   "source": [
    "In multilevel inheritance, features of the base class and the derived class are further inherited into the new derived class"
   ]
  },
  {
   "cell_type": "code",
   "execution_count": 37,
   "id": "2356f089",
   "metadata": {},
   "outputs": [
    {
     "name": "stdout",
     "output_type": "stream",
     "text": [
      "Lal mani\n",
      "Grandfather name : Lal mani\n",
      "Father name : Rampal\n",
      "Son name : Prince\n"
     ]
    }
   ],
   "source": [
    "class Grandfather:\n",
    "\tdef __init__(self, grandfathername):\n",
    "\t\tself.grandfathername = grandfathername\n",
    "\n",
    "\n",
    "class Father(Grandfather):\n",
    "\tdef __init__(self, fathername, grandfathername):\n",
    "\t\tself.fathername = fathername\n",
    "\t\tGrandfather.__init__(self, grandfathername)\n",
    "\n",
    "class Son(Father):\n",
    "\tdef __init__(self, sonname, fathername, grandfathername):\n",
    "\t\tself.sonname = sonname\n",
    "\n",
    "\t\tFather.__init__(self, fathername, grandfathername)\n",
    "\n",
    "\tdef print_name(self):\n",
    "\t\tprint('Grandfather name :', self.grandfathername)\n",
    "\t\tprint(\"Father name :\", self.fathername)\n",
    "\t\tprint(\"Son name :\", self.sonname)\n",
    "\n",
    "s1 = Son('Prince', 'Rampal', 'Lal mani')\n",
    "print(s1.grandfathername)\n",
    "s1.print_name()\n"
   ]
  },
  {
   "cell_type": "markdown",
   "id": "5636ba48",
   "metadata": {},
   "source": [
    "### Hierarchical Inheritance"
   ]
  },
  {
   "cell_type": "markdown",
   "id": "aa4ecd50",
   "metadata": {},
   "source": [
    "When more than one derived class are created from a single base this type of inheritance is called hierarchical inheritance. "
   ]
  },
  {
   "cell_type": "code",
   "execution_count": 38,
   "id": "ca5afe76",
   "metadata": {},
   "outputs": [
    {
     "name": "stdout",
     "output_type": "stream",
     "text": [
      "This function is in parent class.\n",
      "This function is in child 1.\n",
      "This function is in parent class.\n",
      "This function is in child 2.\n"
     ]
    }
   ],
   "source": [
    "class Parent:\n",
    "\tdef func1(self):\n",
    "\t\tprint(\"This function is in parent class.\")\n",
    "\n",
    "class Child1(Parent):\n",
    "\tdef func2(self):\n",
    "\t\tprint(\"This function is in child 1.\")\n",
    "\n",
    "class Child2(Parent):\n",
    "\tdef func3(self):\n",
    "\t\tprint(\"This function is in child 2.\")\n",
    "\n",
    "object1 = Child1()\n",
    "object2 = Child2()\n",
    "object1.func1()\n",
    "object1.func2()\n",
    "object2.func1()\n",
    "object2.func3()"
   ]
  },
  {
   "cell_type": "markdown",
   "id": "358b7ae1",
   "metadata": {},
   "source": [
    "### Hybrid Inheritance "
   ]
  },
  {
   "cell_type": "markdown",
   "id": "68b1a4bc",
   "metadata": {},
   "source": [
    "Inheritance consisting of multiple types of inheritance is called hybrid inheritance."
   ]
  },
  {
   "cell_type": "code",
   "execution_count": 39,
   "id": "87e9a737",
   "metadata": {},
   "outputs": [
    {
     "name": "stdout",
     "output_type": "stream",
     "text": [
      "This function is in school.\n",
      "This function is in student 1. \n"
     ]
    }
   ],
   "source": [
    "class School:\n",
    "\tdef func1(self):\n",
    "\t\tprint(\"This function is in school.\")\n",
    "\n",
    "class Student1(School):\n",
    "\tdef func2(self):\n",
    "\t\tprint(\"This function is in student 1. \")\n",
    "\n",
    "\n",
    "class Student2(School):\n",
    "\tdef func3(self):\n",
    "\t\tprint(\"This function is in student 2.\")\n",
    "\n",
    "\n",
    "class Student3(Student1, School):\n",
    "\tdef func4(self):\n",
    "\t\tprint(\"This function is in student 3.\")\n",
    "\n",
    "object = Student3()\n",
    "object.func1()\n",
    "object.func2()\n"
   ]
  },
  {
   "cell_type": "code",
   "execution_count": null,
   "id": "c29f62b6",
   "metadata": {},
   "outputs": [],
   "source": []
  },
  {
   "cell_type": "code",
   "execution_count": null,
   "id": "818b61c2",
   "metadata": {},
   "outputs": [],
   "source": []
  }
 ],
 "metadata": {
  "kernelspec": {
   "display_name": "Python 3 (ipykernel)",
   "language": "python",
   "name": "python3"
  },
  "language_info": {
   "codemirror_mode": {
    "name": "ipython",
    "version": 3
   },
   "file_extension": ".py",
   "mimetype": "text/x-python",
   "name": "python",
   "nbconvert_exporter": "python",
   "pygments_lexer": "ipython3",
   "version": "3.9.7"
  }
 },
 "nbformat": 4,
 "nbformat_minor": 5
}
